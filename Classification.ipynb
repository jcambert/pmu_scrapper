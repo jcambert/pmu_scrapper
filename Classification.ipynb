{
 "cells": [
  {
   "cell_type": "code",
   "execution_count": 75,
   "id": "a4e0050b",
   "metadata": {},
   "outputs": [],
   "source": [
    "import numpy as np\n",
    "import matplotlib.pyplot as plt\n",
    "import pandas as pd\n",
    "from sklearn.model_selection import train_test_split\n",
    "from sklearn.neighbors import KNeighborsClassifier\n",
    "from sklearn.linear_model import SGDClassifier\n",
    "from sklearn.pipeline import make_pipeline\n",
    "from sklearn.model_selection import cross_val_score\n",
    "from sklearn.preprocessing import MinMaxScaler, StandardScaler, RobustScaler\n",
    "from sklearn.preprocessing import PolynomialFeatures"
   ]
  },
  {
   "cell_type": "code",
   "execution_count": 76,
   "id": "8f09d3e2",
   "metadata": {},
   "outputs": [],
   "source": [
    "def col_place(row):\n",
    "    return 1 if row['ordreArrivee'] in range(1,3) else 0"
   ]
  },
  {
   "cell_type": "code",
   "execution_count": 77,
   "id": "e5c2869d",
   "metadata": {},
   "outputs": [],
   "source": [
    "def predict(model,x):\n",
    "#     print(x)\n",
    "    l=len(x)\n",
    "    x = np.asarray(x)\n",
    "    x=x.reshape(1,l)\n",
    "    return int(x[0,0]),model.predict(x)[0]==1,model.predict(x)[0]\n",
    "    \n",
    "\n"
   ]
  },
  {
   "cell_type": "code",
   "execution_count": 78,
   "id": "8806a040",
   "metadata": {},
   "outputs": [
    {
     "data": {
      "text/html": [
       "<div>\n",
       "<style scoped>\n",
       "    .dataframe tbody tr th:only-of-type {\n",
       "        vertical-align: middle;\n",
       "    }\n",
       "\n",
       "    .dataframe tbody tr th {\n",
       "        vertical-align: top;\n",
       "    }\n",
       "\n",
       "    .dataframe thead th {\n",
       "        text-align: right;\n",
       "    }\n",
       "</style>\n",
       "<table border=\"1\" class=\"dataframe\">\n",
       "  <thead>\n",
       "    <tr style=\"text-align: right;\">\n",
       "      <th></th>\n",
       "      <th>numPmu</th>\n",
       "      <th>rapport</th>\n",
       "      <th>age</th>\n",
       "      <th>nombreCourses</th>\n",
       "      <th>nombreVictoires</th>\n",
       "      <th>nombrePlaces</th>\n",
       "      <th>nombrePlacesSecond</th>\n",
       "      <th>nombrePlacesTroisieme</th>\n",
       "      <th>distance</th>\n",
       "      <th>handicapDistance</th>\n",
       "      <th>gain_carriere</th>\n",
       "      <th>gain_victoires</th>\n",
       "      <th>gain_places</th>\n",
       "      <th>gain_annee_en_cours</th>\n",
       "      <th>gain_annee_precedente</th>\n",
       "      <th>place</th>\n",
       "    </tr>\n",
       "  </thead>\n",
       "  <tbody>\n",
       "    <tr>\n",
       "      <th>0</th>\n",
       "      <td>1</td>\n",
       "      <td>47.0</td>\n",
       "      <td>5</td>\n",
       "      <td>14</td>\n",
       "      <td>3</td>\n",
       "      <td>7</td>\n",
       "      <td>2</td>\n",
       "      <td>0</td>\n",
       "      <td>2700</td>\n",
       "      <td>2700</td>\n",
       "      <td>3828000</td>\n",
       "      <td>2025000</td>\n",
       "      <td>1803000</td>\n",
       "      <td>2703000</td>\n",
       "      <td>1125000</td>\n",
       "      <td>1</td>\n",
       "    </tr>\n",
       "    <tr>\n",
       "      <th>1</th>\n",
       "      <td>2</td>\n",
       "      <td>68.0</td>\n",
       "      <td>5</td>\n",
       "      <td>24</td>\n",
       "      <td>2</td>\n",
       "      <td>8</td>\n",
       "      <td>3</td>\n",
       "      <td>0</td>\n",
       "      <td>2700</td>\n",
       "      <td>2700</td>\n",
       "      <td>4107000</td>\n",
       "      <td>2250000</td>\n",
       "      <td>1857000</td>\n",
       "      <td>2534000</td>\n",
       "      <td>891000</td>\n",
       "      <td>0</td>\n",
       "    </tr>\n",
       "    <tr>\n",
       "      <th>2</th>\n",
       "      <td>3</td>\n",
       "      <td>153.0</td>\n",
       "      <td>5</td>\n",
       "      <td>24</td>\n",
       "      <td>1</td>\n",
       "      <td>15</td>\n",
       "      <td>3</td>\n",
       "      <td>2</td>\n",
       "      <td>2700</td>\n",
       "      <td>2700</td>\n",
       "      <td>4183000</td>\n",
       "      <td>900000</td>\n",
       "      <td>3283000</td>\n",
       "      <td>1734000</td>\n",
       "      <td>2449000</td>\n",
       "      <td>0</td>\n",
       "    </tr>\n",
       "    <tr>\n",
       "      <th>3</th>\n",
       "      <td>4</td>\n",
       "      <td>62.0</td>\n",
       "      <td>5</td>\n",
       "      <td>27</td>\n",
       "      <td>1</td>\n",
       "      <td>13</td>\n",
       "      <td>4</td>\n",
       "      <td>4</td>\n",
       "      <td>2700</td>\n",
       "      <td>2700</td>\n",
       "      <td>4235000</td>\n",
       "      <td>990000</td>\n",
       "      <td>3245000</td>\n",
       "      <td>2813000</td>\n",
       "      <td>1422000</td>\n",
       "      <td>0</td>\n",
       "    </tr>\n",
       "    <tr>\n",
       "      <th>4</th>\n",
       "      <td>5</td>\n",
       "      <td>8.1</td>\n",
       "      <td>5</td>\n",
       "      <td>9</td>\n",
       "      <td>4</td>\n",
       "      <td>3</td>\n",
       "      <td>1</td>\n",
       "      <td>0</td>\n",
       "      <td>2700</td>\n",
       "      <td>2700</td>\n",
       "      <td>4632000</td>\n",
       "      <td>4230000</td>\n",
       "      <td>402000</td>\n",
       "      <td>4632000</td>\n",
       "      <td>0</td>\n",
       "      <td>0</td>\n",
       "    </tr>\n",
       "  </tbody>\n",
       "</table>\n",
       "</div>"
      ],
      "text/plain": [
       "   numPmu  rapport  age  nombreCourses  nombreVictoires  nombrePlaces  \\\n",
       "0       1     47.0    5             14                3             7   \n",
       "1       2     68.0    5             24                2             8   \n",
       "2       3    153.0    5             24                1            15   \n",
       "3       4     62.0    5             27                1            13   \n",
       "4       5      8.1    5              9                4             3   \n",
       "\n",
       "   nombrePlacesSecond  nombrePlacesTroisieme  distance  handicapDistance  \\\n",
       "0                   2                      0      2700              2700   \n",
       "1                   3                      0      2700              2700   \n",
       "2                   3                      2      2700              2700   \n",
       "3                   4                      4      2700              2700   \n",
       "4                   1                      0      2700              2700   \n",
       "\n",
       "   gain_carriere  gain_victoires  gain_places  gain_annee_en_cours  \\\n",
       "0        3828000         2025000      1803000              2703000   \n",
       "1        4107000         2250000      1857000              2534000   \n",
       "2        4183000          900000      3283000              1734000   \n",
       "3        4235000          990000      3245000              2813000   \n",
       "4        4632000         4230000       402000              4632000   \n",
       "\n",
       "   gain_annee_precedente  place  \n",
       "0                1125000      1  \n",
       "1                 891000      0  \n",
       "2                2449000      0  \n",
       "3                1422000      0  \n",
       "4                      0      0  "
      ]
     },
     "execution_count": 78,
     "metadata": {},
     "output_type": "execute_result"
    }
   ],
   "source": [
    "df=pd.read_csv('participants_trot_attele.csv',sep=\";\")\n",
    "df['ordreArrivee'] = df['ordreArrivee'].fillna(0)\n",
    "df=df[['numPmu','rapport','age','nombreCourses','nombreVictoires','nombrePlaces','nombrePlacesSecond','nombrePlacesTroisieme','ordreArrivee','distance','handicapDistance','gain_carriere','gain_victoires','gain_places','gain_annee_en_cours','gain_annee_precedente']]\n",
    "df['place']=df.apply (lambda row: col_place(row), axis=1)\n",
    "df=df.drop('ordreArrivee', axis=1)\n",
    "df.head()\n"
   ]
  },
  {
   "cell_type": "code",
   "execution_count": 79,
   "id": "6e8fb9f3",
   "metadata": {},
   "outputs": [
    {
     "name": "stdout",
     "output_type": "stream",
     "text": [
      "Train set: (40692, 15)\n",
      "Test set: (10173, 15)\n"
     ]
    }
   ],
   "source": [
    "y=df['place']\n",
    "X=df.drop('place', axis=1)\n",
    "\n",
    "X_train, X_test, y_train, y_test = train_test_split(X, y, test_size=0.2, random_state=0,shuffle=False)\n",
    "\n",
    "print('Train set:', X_train.shape)\n",
    "print('Test set:', X_test.shape)\n"
   ]
  },
  {
   "cell_type": "code",
   "execution_count": 82,
   "id": "4df202ae",
   "metadata": {},
   "outputs": [
    {
     "data": {
      "text/plain": [
       "0.8557947508109702"
      ]
     },
     "execution_count": 82,
     "metadata": {},
     "output_type": "execute_result"
    }
   ],
   "source": [
    "model = make_pipeline( PolynomialFeatures(),\n",
    "                      StandardScaler(),\n",
    "                      SGDClassifier(random_state=0))\n",
    "\n",
    "model.fit(X_train, y_train)\n",
    "model.score(X_test, y_test)"
   ]
  },
  {
   "cell_type": "code",
   "execution_count": 81,
   "id": "e5314435",
   "metadata": {},
   "outputs": [
    {
     "name": "stdout",
     "output_type": "stream",
     "text": [
      "(12, 15)\n"
     ]
    }
   ],
   "source": [
    "df_p=pd.read_csv('validation_participants_trot_attele.csv',sep=\";\")\n",
    "\n",
    "\n",
    "df_p=df_p[(df_p['reunion']==1) & (df_p['course']==2)]\n",
    "\n",
    "df_p=df_p[['numPmu','rapport','age','nombreCourses','nombreVictoires','nombrePlaces','nombrePlacesSecond','nombrePlacesTroisieme','distance','handicapDistance','gain_carriere','gain_victoires','gain_places','gain_annee_en_cours','gain_annee_precedente']]\n",
    "print(df_p.shape)\n",
    "for row in df_p.iterrows():\n",
    "    numPmu,result,value=predict(model,row[1])\n",
    "    if result:\n",
    "        print(f\"{numPmu} placé - {value}\" )\n",
    "#     else:\n",
    "#         print(f\"{numPmu} Non placé - {value}\" )"
   ]
  },
  {
   "cell_type": "code",
   "execution_count": null,
   "id": "46ecd6c2",
   "metadata": {},
   "outputs": [],
   "source": []
  }
 ],
 "metadata": {
  "kernelspec": {
   "display_name": "Python 3",
   "language": "python",
   "name": "python3"
  },
  "language_info": {
   "codemirror_mode": {
    "name": "ipython",
    "version": 3
   },
   "file_extension": ".py",
   "mimetype": "text/x-python",
   "name": "python",
   "nbconvert_exporter": "python",
   "pygments_lexer": "ipython3",
   "version": "3.8.10"
  }
 },
 "nbformat": 4,
 "nbformat_minor": 5
}
